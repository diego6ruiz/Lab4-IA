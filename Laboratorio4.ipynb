{
 "cells": [
  {
   "cell_type": "markdown",
   "id": "54d677dd",
   "metadata": {},
   "source": [
    "**Laboratorio 4 - Regresión lineal polinómica**<br>\n",
    "Jose Jorge Pérez 18364<br>\n",
    "Diego Ruiz 18761"
   ]
  },
  {
   "cell_type": "markdown",
   "id": "100f22df",
   "metadata": {},
   "source": [
    "Antes de empezar a trabajar, importamos las librerias de numpy, pandas y sklearn para podeer leer, guardar y realizar operaciones sobre nuestro archivo CSV."
   ]
  },
  {
   "cell_type": "code",
   "execution_count": 14,
   "id": "6f285f10",
   "metadata": {},
   "outputs": [],
   "source": [
    "import numpy as np\n",
    "import pandas as pd\n",
    "import matplotlib.pyplot as plt\n",
    "from sklearn.preprocessing import PolynomialFeatures\n",
    "from sklearn.linear_model import LinearRegression\n",
    "from sklearn.model_selection import KFold\n",
    "from sklearn.model_selection import cross_val_score, train_test_split"
   ]
  },
  {
   "cell_type": "markdown",
   "id": "65410487",
   "metadata": {},
   "source": [
    "**Task 1.1**<br>\n",
    "Leer el archivo CSV proporcionado y almacenarlo en un p.array para ser trabajado en el notebook. <br><br>\n",
    "Usamos pandas para leer y numpy para almacenar"
   ]
  },
  {
   "cell_type": "code",
   "execution_count": 15,
   "id": "17f70355",
   "metadata": {},
   "outputs": [],
   "source": [
    "data = pd.read_csv('kc_house_data.csv')\n",
    "dataN = data.to_numpy()"
   ]
  },
  {
   "cell_type": "markdown",
   "id": "ab1a57ba",
   "metadata": {},
   "source": [
    "**Task 1.2**<br>\n",
    "Ajustar un modelo polinomial (regresión lineal) en base al juego de datos cargado de forma matricial que relaciona las variables de precio con los pies cuadrados del espacio habitable interior de los apartamentos (price - sqft living). <br><br>\n",
    "Usamos pandas para leer y numpy para almacenar"
   ]
  },
  {
   "cell_type": "markdown",
   "id": "d0e01c80",
   "metadata": {},
   "source": [
    "Primero, extraemos los datos de las columnas 'price' y 'sqft_living' ya que son las que nos interesan diagramar.<br>\n",
    "Luego, dividimos la data entre sets de entrenamiento y testing para adecuar nuestra data a datos desconocidos.<br>\n",
    "Luego, definimos los grados de polinomio que queremos probar, en nuestro caso, 10 fue el máximo que parecía razonable."
   ]
  },
  {
   "cell_type": "code",
   "execution_count": 16,
   "id": "8e0db079",
   "metadata": {},
   "outputs": [],
   "source": [
    "price = np.array(data['price'])\n",
    "sqft_living = np.array(data['sqft_living'])\n",
    "\n",
    "# Dividir la data\n",
    "sqft_living_train, sqft_living_test, price_train, price_test = train_test_split(sqft_living, price, test_size=0.2, random_state=42)\n",
    "\n",
    "# Rango de grados de polinomios del 1 al 10\n",
    "degrees = np.arange(1, 11)"
   ]
  },
  {
   "cell_type": "markdown",
   "id": "b0be10e4",
   "metadata": {},
   "source": [
    "**Task 1.3**<br>\n",
    "Utilice la implementación vectorial del algoritmo de regresión lineal (descenso del gradiente visto en clase). <br><br>\n",
    "Se realizará para cada grado de polinomio y a su vez, se tomarán scores para calcular el ajuste a iteraciones futuras (cross validation) y para el error que genera el grado de polinomio a los datos actuales. Creamos una lista mse_scores y cv_scores para esto."
   ]
  },
  {
   "cell_type": "code",
   "execution_count": 17,
   "id": "1af1212e",
   "metadata": {},
   "outputs": [],
   "source": [
    "mse_scores = []\n",
    "cv_scores = []"
   ]
  },
  {
   "cell_type": "markdown",
   "id": "addb72b5",
   "metadata": {},
   "source": [
    "Luego, usamos parte de la data para entrenar y otra para testear.<br>\n",
    "Esto lo hacemos para cada grado de polinomio razonable que definimos anteriormente.<br>\n",
    "Por último en el loop, calculamos el error cuadrático medio y el score de cross validation."
   ]
  },
  {
   "cell_type": "code",
   "execution_count": 18,
   "id": "709e656f",
   "metadata": {},
   "outputs": [],
   "source": [
    "for degree in degrees:\n",
    "    poly = PolynomialFeatures(degree=degree)\n",
    "    X_train = poly.fit_transform(sqft_living_train.reshape(-1, 1))\n",
    "    X_test = poly.transform(sqft_living_test.reshape(-1, 1))\n",
    "    model = LinearRegression()\n",
    "    \n",
    "    #error cuadratico medio\n",
    "    model.fit(X_train, price_train)\n",
    "    y_pred = model.predict(X_test)\n",
    "    mse_score = np.mean((y_pred - price_test)**2)\n",
    "    mse_scores.append(mse_score)\n",
    "    \n",
    "    #score cross validation \n",
    "    cv_score = -np.mean(cross_val_score(model, X_train, price_train, cv=5, scoring='neg_mean_squared_error'))\n",
    "    cv_scores.append(cv_score)"
   ]
  },
  {
   "cell_type": "markdown",
   "id": "e10293b7",
   "metadata": {},
   "source": [
    "**Task 1.4**<br>\n",
    "Usando cross-validation determine el grado del polinomio que mejor describe la nube de puntos (encuentre el mejor balance entre apego a los datos de entrenamiento y generalización para datos previamente no observados). <br><br>\n",
    "Utilizaremos K-Fold para realizar la validación cruzada.<br>\n",
    "Debemos hallar el grado que tenga el error más bajo y el score cv más alto."
   ]
  },
  {
   "cell_type": "code",
   "execution_count": 20,
   "id": "dfaaf21e",
   "metadata": {},
   "outputs": [],
   "source": [
    "kf = KFold(n_splits=5, shuffle=True, random_state=42)\n",
    "\n",
    "best_degree_idx = np.argmin(mse_scores + cv_scores)\n",
    "if best_degree_idx < len(mse_scores):\n",
    "    best_degree = degrees[best_degree_idx]\n",
    "else:\n",
    "    best_degree = degrees[best_degree_idx - len(mse_scores)]"
   ]
  },
  {
   "cell_type": "markdown",
   "id": "5e926d4c",
   "metadata": {},
   "source": [
    "Construimos la regresión para el grado de polinomio que mejor se ajusta.<br>\n",
    "Y por último, dibujamos la curva. "
   ]
  },
  {
   "cell_type": "code",
   "execution_count": 21,
   "id": "6d51b1d7",
   "metadata": {},
   "outputs": [
    {
     "data": {
      "image/png": "[encoded data removed]",
      "text/plain": [
       "<Figure size 432x288 with 1 Axes>"
      ]
     },
     "metadata": {
      "needs_background": "light"
     },
     "output_type": "display_data"
    }
   ],
   "source": [
    "poly = PolynomialFeatures(degree=best_degree)\n",
    "X_train = poly.fit_transform(sqft_living_train.reshape(-1, 1))\n",
    "X_test = poly.transform(sqft_living_test.reshape(-1, 1))\n",
    "\n",
    "model = LinearRegression()\n",
    "model.fit(X_train, price_train)\n",
    "\n",
    "x_grid = np.linspace(np.min(sqft_living), np.max(sqft_living), 100).reshape(-1, 1)\n",
    "X_grid = poly.transform(x_grid)\n",
    "y_grid = model.predict(X_grid)\n",
    "\n",
    "plt.scatter(sqft_living, price, alpha=0.5)\n",
    "plt.plot(x_grid, y_grid, color='red', label=f'Degree {best_degree} fit')\n",
    "plt.xlabel('Square footage of interior living space')\n",
    "plt.ylabel('Price')\n",
    "plt.legend()\n",
    "plt.show()"
   ]
  },
  {
   "cell_type": "markdown",
   "id": "8ed9c96d",
   "metadata": {},
   "source": [
    "**Task 1.5**<br>\n",
    "Haga un análisis sobre sus hallazgos. <br><br>\n",
    "Primero, analizando la data llegamos a la conclusión, que como regla general, a medida que incrementa el espacio de vivienda, es decir, los pies cuadrados de interior de una casa, su precio incrementa exponencialmente. A pesar de esto, existian datos atípicos, como el caso de la casa más grande del set de datos, que costaba el 25% que la más cara. Este dato también es interesante ya que previo a implementar la validación cruzada, la gráfica que obteníamos era de grado 6, y practicamente incrementaba y luego bajaba solo para poder pasar por ese dato. Tras implementar un sistema que no solo toma en cuenta el error y que unicamente se preocupa por ajustarse a los datos existentes, se logró diferenciar con mayor claridad la dispersión de datos y obviamente, los datos atípicos. <br>\n",
    "Esto ejemplifica de sobremanera lo que discutiamos en clase sobre el overfitting, un software para predicción de datos que se basa unicamente en los datos actuales en muchos casos pierde la capacidad de hacer la acción para la cual fue diseñado, predecir. Por otro lado, si únicamente nos basamos en los datos que podrían predecir nuevos datos, perdemos exactitud, por lo que lo más beneficioso es un balance entre ambas cosas. En este caso, nos simplifica una relación de grado 6 a una de grado 2, lo cual simplifica mucho poder sacar conclusiones del diagrama y de la relación entre ambas variables sobre nuestro set de datos.<br>\n"
   ]
  },
  {
   "cell_type": "code",
   "execution_count": null,
   "id": "8a6eabdc",
   "metadata": {},
   "outputs": [],
   "source": []
  }
 ],
 "metadata": {
  "kernelspec": {
   "display_name": "Python 3 (ipykernel)",
   "language": "python",
   "name": "python3"
  },
  "language_info": {
   "codemirror_mode": {
    "name": "ipython",
    "version": 3
   },
   "file_extension": ".py",
   "mimetype": "text/x-python",
   "name": "python",
   "nbconvert_exporter": "python",
   "pygments_lexer": "ipython3",
   "version": "3.9.7"
  }
 },
 "nbformat": 4,
 "nbformat_minor": 5
}
